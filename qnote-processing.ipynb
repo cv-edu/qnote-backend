{
 "cells": [
  {
   "cell_type": "code",
   "execution_count": 1,
   "metadata": {
    "scrolled": false
   },
   "outputs": [
    {
     "data": {
      "image/png": "[encoded data removed]",
      "text/plain": [
       "<matplotlib.figure.Figure at 0x1106f25c0>"
      ]
     },
     "metadata": {},
     "output_type": "display_data"
    }
   ],
   "source": [
    "%matplotlib inline\n",
    "import cv2\n",
    "import matplotlib.pyplot as plt\n",
    "\n",
    "img = cv2.imread(\"form.png\", cv2.IMREAD_COLOR)\n",
    "plt.rc('figure', figsize=(4.25, 5.5))\n",
    "\n",
    "plt.imshow(img);"
   ]
  },
  {
   "cell_type": "code",
   "execution_count": 2,
   "metadata": {},
   "outputs": [
    {
     "data": {
      "image/png": "[encoded data removed]",
      "text/plain": [
       "<matplotlib.figure.Figure at 0x118dd7710>"
      ]
     },
     "metadata": {},
     "output_type": "display_data"
    }
   ],
   "source": [
    "gray = cv2.cvtColor(img, cv2.COLOR_BGR2GRAY)\n",
    "\n",
    "def get_contours(img):\n",
    "    _, thresh = cv2.threshold(img, 100, 255, cv2.THRESH_BINARY)\n",
    "    _, contours, heirarchy = cv2.findContours(thresh, cv2.RETR_TREE, cv2.CHAIN_APPROX_SIMPLE)\n",
    "    return contours, heirarchy\n",
    "\n",
    "contours, heirarchy = get_contours(gray)\n",
    "    \n",
    "approx_contours = []\n",
    "for i, cnt in enumerate(contours):\n",
    "    if heirarchy[0][i][3] == 0:\n",
    "        approx_contours.append(cnt)\n",
    "contours = approx_contours\n",
    "\n",
    "contoured = gray.copy()\n",
    "cv2.drawContours(contoured, contours, -1, color=(0, 255, 0), thickness=10)\n",
    "plt.imshow(contoured);"
   ]
  },
  {
   "cell_type": "code",
   "execution_count": 3,
   "metadata": {},
   "outputs": [
    {
     "data": {
      "image/png": "[encoded data removed]",
      "text/plain": [
       "<matplotlib.figure.Figure at 0x118e96eb8>"
      ]
     },
     "metadata": {},
     "output_type": "display_data"
    }
   ],
   "source": [
    "approx_contours = contours\n",
    "for c in contours:\n",
    "    approx = cv2.approxPolyDP(c, 0.01 * cv2.arcLength(c, True), True)\n",
    "    if len(approx) < 4:\n",
    "        approx_contours.append(approx)\n",
    "        \n",
    "min_area = 5e3\n",
    "approx_contours = [c for c in approx_contours if cv2.contourArea(c) > min_area]\n",
    "\n",
    "contoured = gray.copy()\n",
    "cv2.drawContours(contoured, approx_contours, -1, color=(127, 0, 255), thickness=7)\n",
    "\n",
    "plt.imshow(contoured);"
   ]
  },
  {
   "cell_type": "code",
   "execution_count": 4,
   "metadata": {},
   "outputs": [],
   "source": [
    "names = [\"body\", \"class\", \"date\", \"name\"]\n",
    "for i, cnt in enumerate(approx_contours):\n",
    "    x, y, w, h = cv2.boundingRect(cnt)\n",
    "\n",
    "    img = contoured[y:y+h, x:x+w]\n",
    "    cv2.rectangle(img, (0, 0), (525, 225), (0, 0, 0), -1)\n",
    "    plt.imsave(f\"{names[i]}.png\", img);"
   ]
  },
  {
   "cell_type": "code",
   "execution_count": null,
   "metadata": {
    "collapsed": true
   },
   "outputs": [],
   "source": []
  }
 ],
 "metadata": {
  "kernelspec": {
   "display_name": "Python 3",
   "language": "python",
   "name": "python3"
  },
  "language_info": {
   "codemirror_mode": {
    "name": "ipython",
    "version": 3
   },
   "file_extension": ".py",
   "mimetype": "text/x-python",
   "name": "python",
   "nbconvert_exporter": "python",
   "pygments_lexer": "ipython3",
   "version": "3.6.2"
  }
 },
 "nbformat": 4,
 "nbformat_minor": 2
}
